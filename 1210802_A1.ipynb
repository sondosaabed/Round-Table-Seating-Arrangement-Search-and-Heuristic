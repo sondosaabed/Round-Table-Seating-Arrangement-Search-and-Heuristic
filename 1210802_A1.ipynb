{
 "cells": [
  {
   "cell_type": "markdown",
   "metadata": {},
   "source": [
    "    Department Of Computer Science\n",
    "    COMP338, Artificial Intelligence\n",
    "    Dr. Mohammed Helal\n",
    "    COMP338 | Section  \n",
    "\n",
    "\n",
    "## <div align=center> Assignment #1 </div>\n",
    "<div align=center><b>Round Table Seating Arrangement </b></div>\n",
    "<div align=center>Search Problem </div>\n",
    "\n",
    "    Prepeared by: Abdallah Aabed   \n",
    "    ID: 1210802\n",
    "<hr>"
   ]
  },
  {
   "cell_type": "markdown",
   "metadata": {},
   "source": [
    "#### <b>Abstract</b>\n",
    "In this report, the Round Table Seating arrangemnet is approached diffrently formulated as a search problem. The approchaes are ucs, greedy and A* searches. Then a comparison is made between them. Throughout this report, the tehory, implemnattions, discussion and conclusion are presented."
   ]
  },
  {
   "cell_type": "markdown",
   "metadata": {},
   "source": [
    "#### <b>Table of Contents</b>\n",
    "- <b>Introduction</b>\n",
    "- <b>Objectives</b>\n",
    "- <b>Theory</b>\n",
    "- <b>Software Versions</b>\n",
    "- <b>Algorithms Implementations</b>\n",
    "- <b>Discussion</b>\n",
    "- <b>Conclusion</b>"
   ]
  },
  {
   "cell_type": "markdown",
   "metadata": {},
   "source": [
    "#### <b>List of Figures</b>\n",
    "- Figure 0: Given Dislike Matrix\n",
    "- Figure 1: \n",
    "- Figure 2: \n",
    "- Figure 3: \n",
    "- Figure 4: "
   ]
  },
  {
   "cell_type": "markdown",
   "metadata": {},
   "source": [
    "#### <b>List of Tables</b>\n",
    "- Table 1: \n",
    "- Table 2: Software Listenings"
   ]
  },
  {
   "cell_type": "markdown",
   "metadata": {},
   "source": [
    "#### <b>Introduction</b>\n",
    "\n",
    "In this notebook a heuristic table representing the dislike percentages between pairs of individuals, indicating the level of conflict or discomfort each person feels towards others is provided. The goal is to seat the individuals around a round table in the most suitable arrangement to minimize conflict while ensuring that each person can talk to their neighbors on the left and right. The heuristic table provides dislike percentages between pairs of individuals, with higher percentages indicating greater dislike or conflict. For example, a dislike percentage of 20% between Person A and Person B indicates a low level of conflict, while a dislike percentage of 80% indicates a high level of conflict. The follwing figure shows the matrix:\n",
    "\n",
    "<div align='center'>\n",
    "\n",
    "![Dislike matrix](./attachments/matrix.png)\n",
    "\n",
    "<b>Figure 1: </b>Given Dislike Matrix\n",
    "</div>\n",
    "\n",
    "Requirements:\n",
    "- Each person should be seated next to their neighbors on the left and right to facilitate conversation.\n",
    "- The seating arrangement should form a closed loop, as it is a round table."
   ]
  },
  {
   "cell_type": "markdown",
   "metadata": {},
   "source": [
    "#### <b>Objectives</b>\n",
    "- To implemnet Uniform Cost Search (UCS) algorithm\n",
    "- To implemet Greedy Search algorithm\n",
    "- To implement A* Search algorithm\n",
    "- To determine which algorithm can find the best seating arrangement that minimizes conflict based on the provided heuristic table and the Non-Linear Dislike Cost function."
   ]
  },
  {
   "cell_type": "markdown",
   "metadata": {},
   "source": [
    "#### <b>Theory</b>"
   ]
  },
  {
   "cell_type": "markdown",
   "metadata": {},
   "source": [
    "##### Informed Vs. Uninformed Search"
   ]
  },
  {
   "cell_type": "markdown",
   "metadata": {},
   "source": [
    "##### UCS"
   ]
  },
  {
   "cell_type": "markdown",
   "metadata": {},
   "source": [
    "##### Greedy"
   ]
  },
  {
   "cell_type": "markdown",
   "metadata": {},
   "source": [
    "##### A star search"
   ]
  },
  {
   "cell_type": "markdown",
   "metadata": {},
   "source": [
    "#### <b>Tools and Versions</b>\n",
    "\n",
    "The below table shows the tools and versions used to solve this problem.\n",
    "\n",
    "Table 1: Software Tools and versions\n",
    "\n",
    "<div align=\"center\">\n",
    "\n",
    "\n",
    "|Tool | Version |\n",
    "|-----|---------|\n",
    "|Python|3.12.2|\n",
    "|Numpy|1.26.4|\n",
    "|Matplotlib|3.8.2|\n",
    "|Pandas|2.2.1|\n",
    "|Visual Studio Code |Updated|\n",
    "\n",
    "</div>"
   ]
  },
  {
   "cell_type": "markdown",
   "metadata": {},
   "source": [
    "<b>Neccessary Imports</b>"
   ]
  },
  {
   "cell_type": "code",
   "execution_count": 14,
   "metadata": {},
   "outputs": [],
   "source": [
    "import numpy as np\n",
    "import pandas as pd\n",
    "import matplotlib.pyplot as plt\n",
    "import networkx as nx\n",
    "import heapq\n",
    "import sys"
   ]
  },
  {
   "cell_type": "markdown",
   "metadata": {},
   "source": [
    "#### <b>Data Structure</b>"
   ]
  },
  {
   "cell_type": "markdown",
   "metadata": {},
   "source": [
    "<b>The follownig dislike matrix was given:</b>"
   ]
  },
  {
   "cell_type": "code",
   "execution_count": 2,
   "metadata": {},
   "outputs": [],
   "source": [
    "dislike_matrix = {\n",
    "    'Khalid': {'Khalid': 0.0, 'Ibrahim': 0.45, 'Fuad': 0.78, 'Hakam': 0.81, 'Samir': 0.26, 'Kamal': 0.75, 'Hani': 0.92, 'Ayman': 0.64, 'Salem': 0.99, 'Ahmed': 0.43},\n",
    "    'Ibrahim': {'Khalid': 0.45, 'Ibrahim': 0.0, 'Fuad': 0.81, 'Hakam': 0.87, 'Samir': 0.37, 'Kamal': 0.42, 'Hani': 0.53, 'Ayman': 0.88, 'Salem': 0.62, 'Ahmed': 0.76},\n",
    "    'Fuad': {'Khalid': 0.78, 'Ibrahim': 0.81, 'Fuad': 0.0, 'Hakam': 0.92, 'Samir': 0.97, 'Kamal': 0.53, 'Hani': 0.99, 'Ayman': 0.90, 'Salem': 0.17, 'Ahmed': 0.10},\n",
    "    'Hakam': {'Khalid': 0.81, 'Ibrahim': 0.87, 'Fuad': 0.92, 'Hakam': 0.0, 'Samir': 0.63, 'Kamal': 0.88, 'Hani': 0.78, 'Ayman': 0.51, 'Salem': 0.55, 'Ahmed': 0.33},\n",
    "    'Samir': {'Khalid': 0.26, 'Ibrahim': 0.37, 'Fuad': 0.97, 'Hakam': 0.63, 'Samir': 0.0, 'Kamal': 0.43, 'Hani': 0.86, 'Ayman': 0.96, 'Salem': 0.20, 'Ahmed': 0.48},\n",
    "    'Kamal': {'Khalid': 0.75, 'Ibrahim': 0.42, 'Fuad': 0.53, 'Hakam': 0.88, 'Samir': 0.43, 'Kamal': 0.0, 'Hani': 0.91, 'Ayman': 0.63, 'Salem': 0.76, 'Ahmed': 0.82},\n",
    "    'Hani': {'Khalid': 0.92, 'Ibrahim': 0.53, 'Fuad': 0.99, 'Hakam': 0.78, 'Samir': 0.86, 'Kamal': 0.91, 'Hani': 0.0, 'Ayman': 0.70, 'Salem': 0.11, 'Ahmed': 0.30},\n",
    "    'Ayman': {'Khalid': 0.64, 'Ibrahim': 0.88, 'Fuad': 0.90, 'Hakam': 0.51, 'Samir': 0.96, 'Kamal': 0.63, 'Hani': 0.70, 'Ayman': 0.0, 'Salem': 0.90, 'Ahmed': 0.55},\n",
    "    'Salem': {'Khalid': 0.99, 'Ibrahim': 0.62, 'Fuad': 0.17, 'Hakam': 0.55, 'Samir': 0.20, 'Kamal': 0.76, 'Hani': 0.11, 'Ayman': 0.90, 'Salem': 0.0, 'Ahmed': 0.68},\n",
    "    'Ahmed': {'Khalid': 0.43, 'Ibrahim': 0.76, 'Fuad': 0.10, 'Hakam': 0.33, 'Samir': 0.48, 'Kamal': 0.82, 'Hani': 0.30, 'Ayman': 0.55, 'Salem': 0.68, 'Ahmed': 0.0},\n",
    "}"
   ]
  },
  {
   "cell_type": "markdown",
   "metadata": {},
   "source": [
    "<b>Using pandas dataframe</b>"
   ]
  },
  {
   "cell_type": "code",
   "execution_count": 3,
   "metadata": {},
   "outputs": [
    {
     "data": {
      "text/html": [
       "<div>\n",
       "<style scoped>\n",
       "    .dataframe tbody tr th:only-of-type {\n",
       "        vertical-align: middle;\n",
       "    }\n",
       "\n",
       "    .dataframe tbody tr th {\n",
       "        vertical-align: top;\n",
       "    }\n",
       "\n",
       "    .dataframe thead th {\n",
       "        text-align: right;\n",
       "    }\n",
       "</style>\n",
       "<table border=\"1\" class=\"dataframe\">\n",
       "  <thead>\n",
       "    <tr style=\"text-align: right;\">\n",
       "      <th></th>\n",
       "      <th>Khalid</th>\n",
       "      <th>Ibrahim</th>\n",
       "      <th>Fuad</th>\n",
       "      <th>Hakam</th>\n",
       "      <th>Samir</th>\n",
       "      <th>Kamal</th>\n",
       "      <th>Hani</th>\n",
       "      <th>Ayman</th>\n",
       "      <th>Salem</th>\n",
       "      <th>Ahmed</th>\n",
       "    </tr>\n",
       "  </thead>\n",
       "  <tbody>\n",
       "    <tr>\n",
       "      <th>Khalid</th>\n",
       "      <td>0</td>\n",
       "      <td>45</td>\n",
       "      <td>78</td>\n",
       "      <td>81</td>\n",
       "      <td>26</td>\n",
       "      <td>75</td>\n",
       "      <td>92</td>\n",
       "      <td>64</td>\n",
       "      <td>99</td>\n",
       "      <td>43</td>\n",
       "    </tr>\n",
       "    <tr>\n",
       "      <th>Ibrahim</th>\n",
       "      <td>45</td>\n",
       "      <td>0</td>\n",
       "      <td>81</td>\n",
       "      <td>87</td>\n",
       "      <td>37</td>\n",
       "      <td>42</td>\n",
       "      <td>53</td>\n",
       "      <td>88</td>\n",
       "      <td>62</td>\n",
       "      <td>76</td>\n",
       "    </tr>\n",
       "    <tr>\n",
       "      <th>Fuad</th>\n",
       "      <td>78</td>\n",
       "      <td>81</td>\n",
       "      <td>0</td>\n",
       "      <td>92</td>\n",
       "      <td>97</td>\n",
       "      <td>53</td>\n",
       "      <td>99</td>\n",
       "      <td>90</td>\n",
       "      <td>17</td>\n",
       "      <td>10</td>\n",
       "    </tr>\n",
       "    <tr>\n",
       "      <th>Hakam</th>\n",
       "      <td>81</td>\n",
       "      <td>87</td>\n",
       "      <td>92</td>\n",
       "      <td>0</td>\n",
       "      <td>63</td>\n",
       "      <td>88</td>\n",
       "      <td>78</td>\n",
       "      <td>51</td>\n",
       "      <td>55</td>\n",
       "      <td>33</td>\n",
       "    </tr>\n",
       "    <tr>\n",
       "      <th>Samir</th>\n",
       "      <td>26</td>\n",
       "      <td>37</td>\n",
       "      <td>97</td>\n",
       "      <td>63</td>\n",
       "      <td>0</td>\n",
       "      <td>43</td>\n",
       "      <td>86</td>\n",
       "      <td>96</td>\n",
       "      <td>20</td>\n",
       "      <td>48</td>\n",
       "    </tr>\n",
       "    <tr>\n",
       "      <th>Kamal</th>\n",
       "      <td>75</td>\n",
       "      <td>42</td>\n",
       "      <td>53</td>\n",
       "      <td>88</td>\n",
       "      <td>43</td>\n",
       "      <td>0</td>\n",
       "      <td>91</td>\n",
       "      <td>63</td>\n",
       "      <td>76</td>\n",
       "      <td>82</td>\n",
       "    </tr>\n",
       "    <tr>\n",
       "      <th>Hani</th>\n",
       "      <td>92</td>\n",
       "      <td>53</td>\n",
       "      <td>99</td>\n",
       "      <td>78</td>\n",
       "      <td>86</td>\n",
       "      <td>91</td>\n",
       "      <td>0</td>\n",
       "      <td>70</td>\n",
       "      <td>11</td>\n",
       "      <td>30</td>\n",
       "    </tr>\n",
       "    <tr>\n",
       "      <th>Ayman</th>\n",
       "      <td>64</td>\n",
       "      <td>88</td>\n",
       "      <td>90</td>\n",
       "      <td>51</td>\n",
       "      <td>96</td>\n",
       "      <td>63</td>\n",
       "      <td>70</td>\n",
       "      <td>0</td>\n",
       "      <td>90</td>\n",
       "      <td>55</td>\n",
       "    </tr>\n",
       "    <tr>\n",
       "      <th>Salem</th>\n",
       "      <td>99</td>\n",
       "      <td>62</td>\n",
       "      <td>17</td>\n",
       "      <td>55</td>\n",
       "      <td>20</td>\n",
       "      <td>76</td>\n",
       "      <td>11</td>\n",
       "      <td>90</td>\n",
       "      <td>0</td>\n",
       "      <td>68</td>\n",
       "    </tr>\n",
       "    <tr>\n",
       "      <th>Ahmed</th>\n",
       "      <td>43</td>\n",
       "      <td>76</td>\n",
       "      <td>10</td>\n",
       "      <td>33</td>\n",
       "      <td>48</td>\n",
       "      <td>82</td>\n",
       "      <td>30</td>\n",
       "      <td>55</td>\n",
       "      <td>68</td>\n",
       "      <td>0</td>\n",
       "    </tr>\n",
       "  </tbody>\n",
       "</table>\n",
       "</div>"
      ],
      "text/plain": [
       "         Khalid  Ibrahim  Fuad  Hakam  Samir  Kamal  Hani  Ayman  Salem  Ahmed\n",
       "Khalid        0       45    78     81     26     75    92     64     99     43\n",
       "Ibrahim      45        0    81     87     37     42    53     88     62     76\n",
       "Fuad         78       81     0     92     97     53    99     90     17     10\n",
       "Hakam        81       87    92      0     63     88    78     51     55     33\n",
       "Samir        26       37    97     63      0     43    86     96     20     48\n",
       "Kamal        75       42    53     88     43      0    91     63     76     82\n",
       "Hani         92       53    99     78     86     91     0     70     11     30\n",
       "Ayman        64       88    90     51     96     63    70      0     90     55\n",
       "Salem        99       62    17     55     20     76    11     90      0     68\n",
       "Ahmed        43       76    10     33     48     82    30     55     68      0"
      ]
     },
     "execution_count": 3,
     "metadata": {},
     "output_type": "execute_result"
    }
   ],
   "source": [
    "df_dislike = pd.DataFrame.from_dict(dislike_matrix, orient='index')\n",
    "df_dislike = df_dislike*100\n",
    "df_dislike.astype(int)"
   ]
  },
  {
   "cell_type": "markdown",
   "metadata": {},
   "source": [
    "<b>Initilaize the edges and the nodes from the datframe</b>\n",
    "\n",
    "Using a Graph datastructure"
   ]
  },
  {
   "cell_type": "code",
   "execution_count": 4,
   "metadata": {},
   "outputs": [
    {
     "name": "stdout",
     "output_type": "stream",
     "text": [
      "Graph with 10 nodes and 55 edges\n"
     ]
    }
   ],
   "source": [
    "graph = nx.Graph()\n",
    "graph.add_nodes_from(df_dislike.index)\n",
    "\n",
    "# From the dataframe I add the weights to the graph\n",
    "for i in range(len(df_dislike)):\n",
    "    for j in range(i + 1, len(df_dislike)):\n",
    "        weight = df_dislike.iloc[i, j]\n",
    "        if weight != 0:\n",
    "            graph.add_edge(df_dislike.index[i], df_dislike.index[j], weight=weight)\n",
    "\n",
    "# Here I make a loopback to the node itself with weight 0\n",
    "for node in graph.nodes():\n",
    "    graph.add_edge(node, node, weight=0)\n",
    "\n",
    "print(graph)"
   ]
  },
  {
   "cell_type": "markdown",
   "metadata": {},
   "source": [
    "<b>Weighted Grpah Visualization</b>"
   ]
  },
  {
   "cell_type": "code",
   "execution_count": 5,
   "metadata": {},
   "outputs": [
    {
     "data": {
      "image/png": "[encoded data removed]",
      "text/plain": [
       "<Figure size 640x480 with 1 Axes>"
      ]
     },
     "metadata": {},
     "output_type": "display_data"
    }
   ],
   "source": [
    "pos = nx.spring_layout(graph)  \n",
    "labels = nx.get_edge_attributes(graph, 'weight')\n",
    "nx.draw_networkx_nodes(graph, pos, node_size=500)\n",
    "nx.draw_networkx_edges(graph, pos)\n",
    "nx.draw_networkx_edge_labels(graph, pos, edge_labels=labels)\n",
    "nx.draw_networkx_labels(graph, pos)\n",
    "plt.title('Figure: Graph Visualization')\n",
    "plt.show()"
   ]
  },
  {
   "cell_type": "markdown",
   "metadata": {},
   "source": [
    "This is a complete graph which means that there exists a path between any two vertices in the graph"
   ]
  },
  {
   "cell_type": "markdown",
   "metadata": {},
   "source": [
    "#### <b>Task 2: Cost Function</b>"
   ]
  },
  {
   "cell_type": "markdown",
   "metadata": {},
   "source": [
    "The cost function used is a Non-Linear Dislike Cost function. Define a non-linear function f(x) that maps dislike percentages to costs. e.g., f(x) = x^2 would make high dislike percentages have a quadratically higher cost.\n",
    "\n",
    "`f(n) = sum(dislike_percentages_between_neighbors) + sum(f(dislike_percentages_between_neighbors))`\n",
    "\n",
    "The aim of this function is to penalize highly disliked pairs more severely than just a constant of a linear mapping."
   ]
  },
  {
   "cell_type": "code",
   "execution_count": 6,
   "metadata": {},
   "outputs": [],
   "source": [
    "def total_cost_from_path(path, graph):\n",
    "    \"\"\"\n",
    "    The cost function, this will compute the total cost of the path in a graph.\n",
    "\n",
    "    Args:\n",
    "        path (list): List of nodes or a specific seating arrangements.\n",
    "        graph (nx.Graph): graph obj. that has the nodes and the edges.\n",
    "    \n",
    "    Return:\n",
    "        Represents the total dislike in the whole path \n",
    "    \"\"\"\n",
    "    total_cost = 0.0\n",
    "    n = len(path)\n",
    "    if n == 0:\n",
    "        return None\n",
    "    \n",
    "    for i in range(n):\n",
    "        person1 = path[i]\n",
    "        person2 = path[(i + 1) % n]  \n",
    "        if graph.has_edge(person1, person2):\n",
    "            dislike_percentage = graph[person1][person2]['weight']\n",
    "            total_cost += dislike_percentage**2 # non-linearity\n",
    "    return total_cost"
   ]
  },
  {
   "cell_type": "markdown",
   "metadata": {},
   "source": [
    "#### <b>Task 1: Algorithms Implementations</b>"
   ]
  },
  {
   "cell_type": "markdown",
   "metadata": {},
   "source": [
    "<b>Uniform Cost Search (UCS) algorithm Implementation</b>"
   ]
  },
  {
   "cell_type": "code",
   "execution_count": 7,
   "metadata": {},
   "outputs": [],
   "source": [
    "def uniform_cost_search(graph):\n",
    "    \"\"\"\n",
    "    An implemnetation of Uniform Cost Search (UCS) algorithm that finds the shortest path\n",
    "    Args:\n",
    "        graph (nx.Graph): graph of the data\n",
    "        start_node (str): the start node       \n",
    "    Returns:\n",
    "        list: Optimal seating arrangement (path) minimizing conflict.\n",
    "    \"\"\"\n",
    "    min_cost = float('inf')\n",
    "    optimal_arrangement = None\n",
    "    individuals = list(graph.nodes)\n",
    "    if len(individuals) == 0:\n",
    "        return None\n",
    "    \n",
    "    priority_queue = []\n",
    "    heapq.heappush(priority_queue, (0, [individuals[0]]))  # Start from the first individual\n",
    "    \n",
    "    while priority_queue:\n",
    "        current_cost, current_path = heapq.heappop(priority_queue)\n",
    "        current_node = current_path[-1]\n",
    "        \n",
    "        # Check if we've completed a full cycle (path contains all individuals)\n",
    "        if len(current_path) == len(individuals) and current_path[0] in graph.neighbors(current_node):\n",
    "            current_cost = total_cost_from_path(current_path, graph)\n",
    "            if current_cost < min_cost:\n",
    "                min_cost = current_cost\n",
    "                optimal_arrangement = current_path\n",
    "                continue  \n",
    "        \n",
    "        for neighbor in graph.neighbors(current_node):\n",
    "            if neighbor not in current_path:\n",
    "                new_path = current_path + [neighbor]\n",
    "                new_cost = total_cost_from_path(new_path, graph)\n",
    "                heapq.heappush(priority_queue, (new_cost, new_path))\n",
    "    \n",
    "    return optimal_arrangement, min_cost"
   ]
  },
  {
   "cell_type": "markdown",
   "metadata": {},
   "source": [
    "- Call function on the data and check the time, performace:"
   ]
  },
  {
   "cell_type": "code",
   "execution_count": 8,
   "metadata": {},
   "outputs": [
    {
     "name": "stdout",
     "output_type": "stream",
     "text": [
      "The best round table arrangmnet using UCS is:  ['Khalid', 'Samir', 'Kamal', 'Ibrahim', 'Hani', 'Salem', 'Fuad', 'Ahmed', 'Hakam', 'Ayman']\n",
      "UCS min total cost 15394.0\n",
      "Average dislike percenatge per edge:  16.729940498725902\n",
      "CPU times: total: 14.1 s\n",
      "Wall time: 17.3 s\n"
     ]
    }
   ],
   "source": [
    "%%time\n",
    "optimal_arrangement, min_cost = uniform_cost_search(graph)\n",
    "print(\"The best round table arrangmnet using UCS is: \",optimal_arrangement)\n",
    "print(\"UCS min total cost\", min_cost)\n",
    "print(\"Average dislike percenatge per edge: \", np.sqrt(min_cost/55))"
   ]
  },
  {
   "cell_type": "markdown",
   "metadata": {},
   "source": [
    "<b>Greedy Search algorithm Implementation</b>"
   ]
  },
  {
   "cell_type": "code",
   "execution_count": 9,
   "metadata": {},
   "outputs": [],
   "source": [
    "def  greedy_search(graph):\n",
    "    \"\"\"\n",
    "    An implemnetation of greedy search algorithm that finds the round arranemnet with minumum hate \n",
    "    Args:\n",
    "        \n",
    "    Returns:\n",
    "   \n",
    "    \"\"\"\n",
    "    individuals = list(graph.nodes)\n",
    "    if len(individuals) == 0:\n",
    "        return None\n",
    "    \n",
    "    current_node = individuals[0]\n",
    "    path = [current_node]\n",
    "    visited = {current_node}\n",
    "    \n",
    "    while len(path) < len(individuals):\n",
    "        min_cost = float('inf')\n",
    "        best_next_node = None\n",
    "        \n",
    "        for neighbor in graph.neighbors(current_node):\n",
    "            if neighbor not in visited:\n",
    "                new_path = path + [neighbor]\n",
    "                new_cost = total_cost_from_path(new_path, graph)\n",
    "                if new_cost < min_cost:\n",
    "                    min_cost = new_cost\n",
    "                    best_next_node = neighbor\n",
    "        \n",
    "        if best_next_node is None:\n",
    "            break  \n",
    "        \n",
    "        path.append(best_next_node)\n",
    "        visited.add(best_next_node)\n",
    "        current_node = best_next_node\n",
    "    \n",
    "    if len(path) == len(individuals) and path[0] in graph.neighbors(path[-1]):\n",
    "        return path, min_cost\n",
    "    else:\n",
    "        return None  # Fails to find arrangement"
   ]
  },
  {
   "cell_type": "markdown",
   "metadata": {},
   "source": [
    "- Call function on the data and check the time, performace:"
   ]
  },
  {
   "cell_type": "code",
   "execution_count": 15,
   "metadata": {},
   "outputs": [
    {
     "name": "stdout",
     "output_type": "stream",
     "text": [
      "The best round table arrangmnet using Greed is:  ['Khalid', 'Samir', 'Ibrahim', 'Kamal', 'Ayman', 'Ahmed', 'Fuad', 'Salem', 'Hani', 'Hakam']\n",
      "Greedy min total cost 23958.0\n",
      "CPU times: total: 0 ns\n",
      "Wall time: 5.96 ms\n"
     ]
    }
   ],
   "source": [
    "%%time\n",
    "optimal_arrangement, min_cost = greedy_search(graph)\n",
    "print(\"The best round table arrangmnet using Greed is: \",optimal_arrangement)\n",
    "print(\"Greedy min total cost\", min_cost)\n",
    "print(\"Average dislike percenatge per edge: \", np.sqrt(min_cost/55))"
   ]
  },
  {
   "cell_type": "markdown",
   "metadata": {},
   "source": [
    "<b>A* Search algorithm Implementation</b>"
   ]
  },
  {
   "cell_type": "markdown",
   "metadata": {},
   "source": [
    "Heuristic Function"
   ]
  },
  {
   "cell_type": "code",
   "execution_count": 11,
   "metadata": {},
   "outputs": [],
   "source": [
    "def heurestic_function(g_cost, h_cost):\n",
    "    \"\"\" \n",
    "    Args:\n",
    "        g_cost(int):\n",
    "        h_cost(int):\n",
    "    Returns:\n",
    "        cost = f(n) = g(n) + h(n)\n",
    "    \"\"\"\n",
    "    return g_cost + h_cost"
   ]
  },
  {
   "cell_type": "code",
   "execution_count": 12,
   "metadata": {},
   "outputs": [],
   "source": [
    "def a_star_search(graph):\n",
    "    \"\"\"\n",
    "    Implementation of A* Search algorithm to find the optimal cyclic seating arrangement\n",
    "    minimizing conflict based on dislike percentages.\n",
    "    \n",
    "    Args:\n",
    "        graph (nx.Graph): NetworkX graph representing the complete dislike relationships.\n",
    "    Returns:\n",
    "        tuple or None: Tuple containing the optimal seating arrangement (path) minimizing conflict\n",
    "                       and its corresponding minimum conflict cost, or None if no valid arrangement found.\n",
    "    \"\"\"\n",
    "    individuals = list(graph.nodes)\n",
    "    n = len(individuals)\n",
    "    if n == 0:\n",
    "        return None\n",
    "    \n",
    "    start_node = individuals[0]\n",
    "    priority_queue = [(0, [start_node])]  \n",
    "    visited = {start_node: 0}  \n",
    "    \n",
    "    while priority_queue:\n",
    "        _, current_path = heapq.heappop(priority_queue)\n",
    "        current_node = current_path[-1]\n",
    "        \n",
    "        if len(current_path) == n and current_path[0] in graph.neighbors(current_node):\n",
    "            current_cost = total_cost_from_path(current_path, graph)\n",
    "            return current_path, current_cost\n",
    "        \n",
    "        for neighbor in graph.neighbors(current_node):\n",
    "            if neighbor not in current_path:\n",
    "                new_path = current_path + [neighbor]\n",
    "                new_cost = total_cost_from_path(new_path, graph)\n",
    "                \n",
    "                g_cost = new_cost\n",
    "                if graph.has_edge(current_node, neighbor):\n",
    "                    edge_weight = graph[current_node][neighbor]['weight']\n",
    "                    h_cost = edge_weight\n",
    "                else:\n",
    "                    h_cost = 0  \n",
    "                f_cost = heurestic_function(g_cost, h_cost)\n",
    "                \n",
    "                if neighbor not in visited or g_cost < visited[neighbor]:\n",
    "                    visited[neighbor] = g_cost\n",
    "                    heapq.heappush(priority_queue, (f_cost, new_path))\n",
    "    return None"
   ]
  },
  {
   "cell_type": "markdown",
   "metadata": {},
   "source": [
    "- Call function on the data and check the time, performace:"
   ]
  },
  {
   "cell_type": "code",
   "execution_count": 13,
   "metadata": {},
   "outputs": [
    {
     "name": "stdout",
     "output_type": "stream",
     "text": [
      "A star was not able to find a path\n",
      "CPU times: total: 0 ns\n",
      "Wall time: 2.01 ms\n"
     ]
    }
   ],
   "source": [
    "%%time\n",
    "if a_star_search(graph) == None:\n",
    "    print(\"A star was not able to find a path\")\n",
    "else:    \n",
    "    print(\"The best round table arrangmnet using A star is: \",optimal_arrangement)\n",
    "    print(\"A star min total cost\", min_cost)\n",
    "    print(\"Average dislike percenatge per edge: \", np.sqrt(min_cost/55))"
   ]
  },
  {
   "cell_type": "markdown",
   "metadata": {},
   "source": [
    "#### <b>Task 3,4,5: Discussion, Evaluation and Results</b>\n"
   ]
  },
  {
   "cell_type": "markdown",
   "metadata": {},
   "source": [
    "Three algorthims were implemented to minimize the dislike as a round table arrangemnet is done. The below table shows a summary of the implementations done. \n",
    "\n",
    "Table 1: Algorthims Comparision\n",
    "\n",
    "|Algorithm|Path|Minium Cost|CPU Times|Wall time|Time complexity|\n",
    "|---|---|---|---|---|---|\n",
    "|Uniform Cost Search|['Khalid', 'Samir', 'Kamal', 'Ibrahim', 'Hani', 'Salem', 'Fuad', 'Ahmed', 'Hakam', 'Ayman']|15394.0|14.1 s|17.3 s||\n",
    "|Greedy search|['Khalid', 'Samir', 'Ibrahim', 'Kamal', 'Ayman', 'Ahmed', 'Fuad', 'Salem', 'Hani', 'Hakam']|23958.0|0 ns|995 µs||\n",
    "|A* Search|Was not able to find a path |-|0 ns|2.07 ms||\n",
    "\n",
    "It is noticed that both Uniform Cost Search and Greedy serach have succeeded to find a path of a round table arrangement, howevere A* serach fails to do so"
   ]
  },
  {
   "cell_type": "markdown",
   "metadata": {},
   "source": [
    "3. Evaluate the effectiveness of each algorithm in finding the best seating arrangement based on the conflict minimization objective.\n",
    "4. Compare the obtained seating arrangements and discuss the strengths and weaknesses of each algorithm in this context.\n",
    "5. Present your findings, including the final seating arrangements and analysis of algorithm performance, in a report."
   ]
  },
  {
   "cell_type": "markdown",
   "metadata": {},
   "source": [
    "#### <b>Conclusion</b>\n",
    "In conclusion, the objectives are met ... It was found that"
   ]
  },
  {
   "cell_type": "markdown",
   "metadata": {},
   "source": [
    "#### <b>Refrences</b>\n",
    "\n",
    "- https://www.datacamp.com/tutorial/networkx-python-graph-tutorial, 2017"
   ]
  }
 ],
 "metadata": {
  "kernelspec": {
   "display_name": "Python 3",
   "language": "python",
   "name": "python3"
  },
  "language_info": {
   "codemirror_mode": {
    "name": "ipython",
    "version": 3
   },
   "file_extension": ".py",
   "mimetype": "text/x-python",
   "name": "python",
   "nbconvert_exporter": "python",
   "pygments_lexer": "ipython3",
   "version": "3.11.0"
  }
 },
 "nbformat": 4,
 "nbformat_minor": 2
}
